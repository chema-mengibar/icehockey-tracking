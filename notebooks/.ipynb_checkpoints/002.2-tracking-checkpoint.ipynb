{
 "cells": [
  {
   "cell_type": "code",
   "execution_count": 1,
   "id": "e91bc6c6",
   "metadata": {},
   "outputs": [],
   "source": [
    "import numpy as np\n",
    "import numpy.linalg as la\n",
    "import matplotlib.pyplot as plt\n",
    "import json "
   ]
  },
  {
   "cell_type": "markdown",
   "id": "ecc7cc40",
   "metadata": {},
   "source": [
    "## Import game data"
   ]
  },
  {
   "cell_type": "code",
   "execution_count": 2,
   "id": "276044b3",
   "metadata": {},
   "outputs": [],
   "source": [
    "with open('../data/game-tracking/game-001_765-820.json') as f: \n",
    "    content = json.load(f)\n",
    "    \n",
    "# Vars\n",
    "\n",
    "trackersNames = content['ref_objects']\n",
    "trackersReg = content['ref_objects_location']\n",
    "\n",
    "itemsNames = content['ref_players']\n",
    "itemsReg = content['ref_players_location']\n",
    "\n",
    "limitX = content['limits'][0]\n",
    "limitY = content['limits'][1]"
   ]
  },
  {
   "cell_type": "code",
   "execution_count": 3,
   "id": "e0ddad1b",
   "metadata": {},
   "outputs": [],
   "source": [
    "triangles =  [\n",
    "    [\"L22\",\"L32\",\"L33\"],\n",
    "    [\"L11\",\"L12\",\"L21\"],\n",
    "    [\"L12\",\"L13\",\"L23\"],\n",
    "    [\"L13\",\"L14\",\"L25\"],\n",
    "    [\"L21\",\"L12\",\"L22\"],\n",
    "    [\"L12\",\"L22\",\"L23\"],\n",
    "    [\"L23\",\"L13\",\"L24\"],\n",
    "    [\"L13\",\"L24\",\"L25\"],\n",
    "    [\"L21\",\"L22\",\"L32\"],\n",
    "    [\"L22\",\"L23\",\"L33\"],\n",
    "    [\"L23\",\"L33\",\"L34\"],\n",
    "    [\"L23\",\"L24\",\"L34\"],\n",
    "    [\"L24\",\"L34\",\"L35\"],\n",
    "    [\"L24\",\"L25\",\"L35\"],\n",
    "    [\"L25\",\"L36\",\"L54\"],\n",
    "    [\"L21\",\"L31\",\"L51\"],\n",
    "    [\"L21\",\"L31\",\"L32\"],\n",
    "    [\"L31\",\"L32\",\"L41\"],\n",
    "    [\"L35\",\"L25\",\"L36\"],\n",
    "    [\"L31\",\"L42\",\"L41\"],\n",
    "    [\"L32\",\"L41\",\"L33\"],\n",
    "    [\"L33\",\"L34\",\"L53\"],\n",
    "    [\"L34\",\"L42\",\"L35\"],\n",
    "    [\"L35\",\"L36\",\"L42\"],\n",
    "    [\"L36\",\"L42\",\"L54\"],\n",
    "    [\"L42\",\"L53\",\"L54\"],\n",
    "    [\"L34\",\"L42\",\"L53\"],\n",
    "    [\"L33\",\"L52\",\"L53\"],\n",
    "    [\"L33\",\"L41\",\"L52\"],\n",
    "    [\"L31\",\"L41\",\"L51\"],\n",
    "    [\"L51\",\"L52\",\"C1\"],\n",
    "    [\"C1\",\"L52\",\"C2\"],\n",
    "    [\"L52\",\"C2\",\"L53\"],\n",
    "    [\"L53\",\"C3\",\"L54\"]\n",
    "]"
   ]
  },
  {
   "cell_type": "code",
   "execution_count": 4,
   "id": "f80670b1",
   "metadata": {},
   "outputs": [],
   "source": [
    "plotTrackersCoors = {\n",
    "    'C1': [ 337.48 , 3.77 ],\n",
    "    'C2': [ 337.48 , 144.58 ],\n",
    "    'C3': [336.69 , 283.54 ],\n",
    "    'L11': [ 4.46  , 38.68 ],\n",
    "    'L12': [4.12  , 99.92 ],\n",
    "    'L13': [ 3.85 , 191.6  ],\n",
    "    'L14': [ 4.64 , 250.44 ],\n",
    "    'L21': [ 40.89 , 6.92 ],\n",
    "    'L22': [ 40.63 , 109.11  ],\n",
    "    'L23': [ 29.6 , 144.58 ],\n",
    "    'L24': [ 40.89 , 180.3 ],\n",
    "    'L25': [ 40.63 , 282.49 ],\n",
    "    'L31': [ 112.61 , 23.21 ],\n",
    "    'L32': [ 107.09 , 71.28 ],\n",
    "    'L33': [ 101.84 , 119.36 ],\n",
    "    'L34': [ 102.1 , 169.01 ],\n",
    "    'L35': [ 107.09 , 217.34 ],\n",
    "    'L36': [ 112.09 , 264.89 ],\n",
    "    'L41': [  155.69, 69.45 ],\n",
    "    'L42': [ 155.43 , 220.23 ],\n",
    "    'L51': [ 253.15 , 4.82 ],\n",
    "    'L52': [ 270.49 , 71.28 ],\n",
    "    'L53': [ 270.49 , 218.39 ],\n",
    "    'L54': [ 253.15 , 283.54 ]\n",
    "}"
   ]
  },
  {
   "cell_type": "code",
   "execution_count": 5,
   "id": "ab08e06b",
   "metadata": {},
   "outputs": [
    {
     "data": {
      "text/plain": [
       "['PUCK',\n",
       " 'P_LOC_1',\n",
       " 'P_LOC_2',\n",
       " 'P_LOC_3',\n",
       " 'P_LOC_4',\n",
       " 'P_LOC_5',\n",
       " 'P_VIS_1',\n",
       " 'P_VIS_2',\n",
       " 'P_VIS_3',\n",
       " 'P_VIS_4',\n",
       " 'P_VIS_5',\n",
       " 'P_VIS_6']"
      ]
     },
     "execution_count": 5,
     "metadata": {},
     "output_type": "execute_result"
    }
   ],
   "source": [
    "itemsNames"
   ]
  },
  {
   "cell_type": "code",
   "execution_count": 6,
   "id": "708f2ce5",
   "metadata": {},
   "outputs": [],
   "source": [
    "def getPlayerNum( _itemName ):\n",
    "    targetItem = None\n",
    "    \n",
    "    for itemReg in itemsReg:\n",
    "        if itemReg['name'] == _itemName:\n",
    "            targetItem = itemReg\n",
    "            break\n",
    "    \n",
    "    if targetItem:\n",
    "        return targetItem['num']\n",
    "\n",
    "    \n",
    "\n",
    "def getItemCoorByFrame( _itemName, _frameIdx ):\n",
    "    \n",
    "    targetReg = None\n",
    "    \n",
    "    # Select in wich list-frames-registry to have coordinates: trackers or players/puck\n",
    "    if _itemName in itemsNames:\n",
    "        targetReg = itemsReg\n",
    "    elif _itemName in trackersNames:\n",
    "        targetReg = trackersReg\n",
    "    else:\n",
    "        return None\n",
    "    \n",
    "    # Find by frame entry\n",
    "    targetItem = None\n",
    "    \n",
    "    for itemReg in targetReg:\n",
    "        if itemReg['name'] == _itemName:\n",
    "            targetItem = itemReg\n",
    "            break\n",
    "    \n",
    "    if not targetItem:\n",
    "        print('not found it')\n",
    "        return None\n",
    "        \n",
    "    for coor in targetItem['coors']:\n",
    "        if coor[2] == _frameIdx:\n",
    "            return coor\n",
    "            \n"
   ]
  },
  {
   "cell_type": "markdown",
   "id": "4dc0fae5",
   "metadata": {},
   "source": [
    "## Calculate"
   ]
  },
  {
   "cell_type": "code",
   "execution_count": 7,
   "id": "483a63d4",
   "metadata": {},
   "outputs": [],
   "source": [
    "class Vector:\n",
    "    def __init__(self, x, y):\n",
    "        self.x = x\n",
    "        self.y = y"
   ]
  },
  {
   "cell_type": "code",
   "execution_count": 8,
   "id": "69a19ffc",
   "metadata": {},
   "outputs": [],
   "source": [
    "def isPointInTriangle(p, p0, p1, p2):\n",
    "    dX = p.x-p2.x;\n",
    "    dY = p.y-p2.y;\n",
    "    dX21 = p2.x-p1.x;\n",
    "    dY12 = p1.y-p2.y;\n",
    "    D = dY12*(p0.x-p2.x) + dX21*(p0.y-p2.y);\n",
    "    s = dY12*dX + dX21*dY;\n",
    "    t = (p2.y-p0.y)*dX + (p0.x-p2.x)*dY;\n",
    "    if D<0:\n",
    "        return s<=0 and t<=0 and s+t>=D;\n",
    "    return s>=0 and t>=0 and s+t<=D;"
   ]
  },
  {
   "cell_type": "code",
   "execution_count": 9,
   "id": "1f26967b",
   "metadata": {},
   "outputs": [],
   "source": [
    "def barycentric_coords(vertices, point):\n",
    "    T = (np.array(vertices[:-1])-vertices[-1]).T\n",
    "    v = np.dot(la.inv(T), np.array(point)-vertices[-1])\n",
    "    v.resize(len(vertices))\n",
    "    v[-1] = 1-v.sum()\n",
    "    return v"
   ]
  },
  {
   "cell_type": "code",
   "execution_count": 10,
   "id": "2a170478",
   "metadata": {},
   "outputs": [],
   "source": [
    "# Delta correction in x,y screen-capture-coordinates to plot-coordinates\n",
    "\n",
    "d = 172.34\n",
    "\n",
    "def mapX(_x):\n",
    "    return round(_x  * d, 3)\n",
    "\n",
    "def mapY(_y):\n",
    "    return round(474 - (_y * d), 3)"
   ]
  },
  {
   "cell_type": "code",
   "execution_count": 11,
   "id": "e396528d",
   "metadata": {},
   "outputs": [],
   "source": [
    "txs = [plotTrackersCoors[key][0]  for key in plotTrackersCoors]\n",
    "tys = [plotTrackersCoors[key][1]  for key in plotTrackersCoors]"
   ]
  },
  {
   "cell_type": "markdown",
   "id": "099b56ce",
   "metadata": {},
   "source": [
    "### Map coors"
   ]
  },
  {
   "cell_type": "code",
   "execution_count": 12,
   "id": "add81258",
   "metadata": {},
   "outputs": [],
   "source": [
    "def draw( pName, frameTarget, _pxs, _pys, _labels= [] ):\n",
    "    \n",
    "    \n",
    "    a = None\n",
    "    b = None\n",
    "    c = None\n",
    "    \n",
    "    p = None\n",
    "    \n",
    "    pNum = getPlayerNum(pName)\n",
    "    \n",
    "    isV = False\n",
    "    \n",
    "    for triangleVertices in triangles:\n",
    "        cAName = triangleVertices[0] #'L11'\n",
    "        cBName = triangleVertices[1] #'L23'\n",
    "        cCName = triangleVertices[2] #'L34'\n",
    "\n",
    "        # Scene triangle and item coordinates\n",
    "\n",
    "        a = getItemCoorByFrame( cAName, frameTarget)\n",
    "        b = getItemCoorByFrame( cBName, frameTarget)\n",
    "        c = getItemCoorByFrame( cCName, frameTarget)\n",
    "\n",
    "        p = getItemCoorByFrame(pName, frameTarget)\n",
    "\n",
    "        # check is in triangle\n",
    "        va = Vector( a[0], a[1])\n",
    "        vb = Vector( b[0], b[1])\n",
    "        vc = Vector( c[0], c[1])\n",
    "\n",
    "        vp = Vector( p[0], p[1])\n",
    "\n",
    "        isV = isPointInTriangle(vp, va, vb, vc)\n",
    "        # \n",
    "\n",
    "        if isV:  \n",
    "            print(pName,' (', pNum, ') ', ' >> is in triangle: ', triangleVertices )\n",
    "            break\n",
    "\n",
    "    if not isV:\n",
    "        print(pName,' (', pNum, ') ', ' >> NOT in any triangle' )\n",
    "        return\n",
    "\n",
    "    aX= mapX(a[0])\n",
    "    aY= mapY(a[1])\n",
    "\n",
    "    bX= mapX(b[0])\n",
    "    bY= mapY(b[1])\n",
    "\n",
    "    cX= mapX(c[0])\n",
    "    cY= mapY(c[1])\n",
    "\n",
    "    pX = mapX(p[0])\n",
    "    pY = mapY(p[1])\n",
    "\n",
    "    bCoords = barycentric_coords([ [aX, aY],[bX, bY],[cX, cY]], [pX,pY])\n",
    "\n",
    "    # Plot triangle and item coordinates\n",
    "\n",
    "    [aX_, aY_ ] = plotTrackersCoors[cAName]\n",
    "    [bX_, bY_ ] = plotTrackersCoors[cBName]\n",
    "    [cX_, cY_ ] = plotTrackersCoors[cCName]\n",
    "\n",
    "    pX_ = round((bCoords[0]*aX_ + bCoords[1]*bX_ + bCoords[2]*cX_), 3)\n",
    "    pY_ = round((bCoords[0]*aY_ + bCoords[1]*bY_ + bCoords[2]*cY_), 3)\n",
    "    \n",
    "    _pxs.append(pX_)\n",
    "    _pys.append(pY_)\n",
    "    _labels.append(pNum)\n",
    "    \n",
    "    "
   ]
  },
  {
   "cell_type": "markdown",
   "id": "3382e71d",
   "metadata": {},
   "source": [
    "--- "
   ]
  },
  {
   "cell_type": "code",
   "execution_count": 64,
   "id": "f0cfbdd8",
   "metadata": {},
   "outputs": [],
   "source": [
    "frameTarget = 800"
   ]
  },
  {
   "cell_type": "markdown",
   "id": "57f1379d",
   "metadata": {},
   "source": [
    "---"
   ]
  },
  {
   "cell_type": "code",
   "execution_count": 65,
   "id": "6ee9f0b9",
   "metadata": {},
   "outputs": [
    {
     "data": {
      "text/plain": [
       "{'PUCK': [258.51, 274.086],\n",
       " 'P_LOC_1': [317.106, 263.745],\n",
       " 'P_LOC_2': [525.637, 241.341],\n",
       " 'P_LOC_3': [875.487, 284.426],\n",
       " 'P_LOC_4': [872.04, 229.277],\n",
       " 'P_LOC_5': [884.104, 460.213],\n",
       " 'P_VIS_1': [284.361, 262.022],\n",
       " 'P_VIS_2': [454.978, 284.426],\n",
       " 'P_VIS_3': [551.488, 398.17],\n",
       " 'P_VIS_4': [551.488, 251.681],\n",
       " 'P_VIS_5': [691.083, 253.405],\n",
       " 'P_VIS_6': [613.53, 251.681]}"
      ]
     },
     "execution_count": 65,
     "metadata": {},
     "output_type": "execute_result"
    }
   ],
   "source": [
    "itemPlotCoors = {}\n",
    "\n",
    "for itemName in itemsNames:\n",
    "    # itemName -> 'P_LOC_2'\n",
    "    [x, y, frame] = getItemCoorByFrame( itemName, frameTarget)\n",
    "\n",
    "    pX = mapX(x)\n",
    "    pY = mapY(y)\n",
    "    \n",
    "    itemPlotCoors[itemName]= [pX, pY]\n",
    "\n",
    "itemPlotCoors"
   ]
  },
  {
   "cell_type": "code",
   "execution_count": 66,
   "id": "5b252cdf",
   "metadata": {},
   "outputs": [
    {
     "name": "stdout",
     "output_type": "stream",
     "text": [
      "P_LOC_1  ( 24 )   >> is in triangle:  ['L23', 'L33', 'L34']\n",
      "P_LOC_2  ( 22 )   >> is in triangle:  ['L21', 'L22', 'L32']\n",
      "P_LOC_3  ( 17 )   >> is in triangle:  ['L33', 'L41', 'L52']\n",
      "P_LOC_4  ( 44 )   >> is in triangle:  ['L21', 'L31', 'L51']\n",
      "P_LOC_5  ( 16 )   >> is in triangle:  ['L33', 'L52', 'L53']\n"
     ]
    }
   ],
   "source": [
    "# Home players dots\n",
    "\n",
    "hxs = []\n",
    "hys = []\n",
    "hls = []\n",
    "\n",
    "home = [\n",
    "    'P_LOC_1',\n",
    "    'P_LOC_2',\n",
    "    'P_LOC_3',\n",
    "    'P_LOC_4',\n",
    "    'P_LOC_5', \n",
    "]\n",
    "\n",
    "for pName in home: # pName = 'P_VIS_1'\n",
    "    draw( pName, frameTarget, hxs,hys,hls )"
   ]
  },
  {
   "cell_type": "code",
   "execution_count": 67,
   "id": "4269db49",
   "metadata": {},
   "outputs": [
    {
     "name": "stdout",
     "output_type": "stream",
     "text": [
      "P_VIS_1  ( 41 )   >> is in triangle:  ['L23', 'L33', 'L34']\n",
      "P_VIS_2  ( 75 )   >> is in triangle:  ['L33', 'L34', 'L53']\n",
      "P_VIS_3  ( 44 )   >> is in triangle:  ['L34', 'L42', 'L53']\n",
      "P_VIS_4  ( 10 )   >> is in triangle:  ['L22', 'L32', 'L33']\n",
      "P_VIS_5  ( 15 )   >> is in triangle:  ['L31', 'L32', 'L41']\n",
      "P_VIS_6  ( 2 )   >> is in triangle:  ['L32', 'L41', 'L33']\n"
     ]
    }
   ],
   "source": [
    "# Visitor players dots\n",
    "\n",
    "vxs = []\n",
    "vys = []\n",
    "vls = []\n",
    "\n",
    "visitors = [\n",
    "    'P_VIS_1',\n",
    "    'P_VIS_2',\n",
    "    'P_VIS_3',\n",
    "    'P_VIS_4',\n",
    "    'P_VIS_5',\n",
    "    'P_VIS_6'\n",
    "]\n",
    "\n",
    "for pName in visitors: # pName = 'P_VIS_1'\n",
    "    draw( pName, frameTarget, vxs, vys, vls )"
   ]
  },
  {
   "cell_type": "code",
   "execution_count": 68,
   "id": "8903dacf",
   "metadata": {},
   "outputs": [
    {
     "name": "stdout",
     "output_type": "stream",
     "text": [
      "PUCK  (  )   >> is in triangle:  ['L23', 'L33', 'L34']\n"
     ]
    }
   ],
   "source": [
    "# Puck dot\n",
    "\n",
    "pxs = []\n",
    "pys = []\n",
    "\n",
    "draw( 'PUCK', frameTarget, pxs, pys)"
   ]
  },
  {
   "cell_type": "markdown",
   "id": "a3b8d5e2",
   "metadata": {},
   "source": [
    "## Plot trackers"
   ]
  },
  {
   "cell_type": "code",
   "execution_count": 69,
   "id": "6e7bdf2a",
   "metadata": {},
   "outputs": [],
   "source": [
    "homeColor = '#880000'\n",
    "visitorColor = 'grey'"
   ]
  },
  {
   "cell_type": "code",
   "execution_count": 70,
   "id": "cb71ac81",
   "metadata": {},
   "outputs": [
    {
     "data": {
      "image/png": "[encoded data removed]",
      "text/plain": [
       "<Figure size 1100x550 with 1 Axes>"
      ]
     },
     "metadata": {
      "needs_background": "light"
     },
     "output_type": "display_data"
    }
   ],
   "source": [
    "dpi = 100\n",
    "\n",
    "fw = 11\n",
    "fh = 5.5\n",
    "\n",
    "dotSize = 45\n",
    "annotationSize = dotSize/4\n",
    "puckSize= 20\n",
    "\n",
    "minimal= True\n",
    "\n",
    "figSize = (fw,fh)\n",
    "fig, ax = plt.subplots()\n",
    "\n",
    "plt.rcParams[\"figure.figsize\"] = figSize\n",
    "plt.rcParams[\"figure.autolayout\"] = True\n",
    "fig.set_dpi(dpi)\n",
    "\n",
    "if not minimal:\n",
    "    major_ticks = np.arange(0, 1900, 10)\n",
    "    minor_ticks = np.arange(0, 800, 10)\n",
    "\n",
    "    ax.set_xticks(major_ticks)\n",
    "    ax.set_xticks(minor_ticks, minor=True)\n",
    "    ax.set_yticks(major_ticks)\n",
    "    ax.set_yticks(minor_ticks, minor=True)\n",
    "\n",
    "    plt.xticks(fontsize=7,rotation = 45)\n",
    "    plt.yticks(fontsize=7)\n",
    "\n",
    "    ax.grid(which='both', alpha=0.2)\n",
    "else:\n",
    "    plt.axis('off')\n",
    "\n",
    "\n",
    "\n",
    "img = plt.imread(\"./assets/rink-bg-plot_simple.png\")\n",
    "\n",
    "ax.set_title(f'Frame: {frameTarget} ',fontsize=12)\n",
    "\n",
    "# ax.plot(txs, tys, '.', linewidth=2, color='black', markersize=12)\n",
    "\n",
    "ax.plot(hxs, hys, '.', linewidth=2, color=homeColor, markersize=dotSize)\n",
    "ax.plot(vxs, vys, '.', linewidth=2, color=visitorColor, markersize=dotSize)\n",
    "ax.plot(pxs, pys, '.', linewidth=2, color='black', markersize=puckSize)\n",
    "\n",
    "for i, txt in enumerate(hls):\n",
    "    ax.annotate(txt, (hxs[i], hys[i]), ha='center', va=\"center\", color='white', size=annotationSize)\n",
    "    \n",
    "for i, txt in enumerate(vls):\n",
    "    ax.annotate(txt, (vxs[i], vys[i]), ha='center', va=\"center\", color='white', size=annotationSize)\n",
    "\n",
    "ax.imshow(img)\n",
    "\n",
    "plt.savefig(f'./output/002.2_{frameTarget}.png', dpi=dpi)"
   ]
  },
  {
   "cell_type": "code",
   "execution_count": null,
   "id": "84789a3b",
   "metadata": {},
   "outputs": [],
   "source": []
  }
 ],
 "metadata": {
  "kernelspec": {
   "display_name": "Python 3 (ipykernel)",
   "language": "python",
   "name": "python3"
  },
  "language_info": {
   "codemirror_mode": {
    "name": "ipython",
    "version": 3
   },
   "file_extension": ".py",
   "mimetype": "text/x-python",
   "name": "python",
   "nbconvert_exporter": "python",
   "pygments_lexer": "ipython3",
   "version": "3.9.7"
  }
 },
 "nbformat": 4,
 "nbformat_minor": 5
}
